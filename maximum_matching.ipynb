{
 "cells": [
  {
   "cell_type": "code",
   "execution_count": 1,
   "metadata": {
    "ExecuteTime": {
     "end_time": "2018-03-28T03:48:23.064672Z",
     "start_time": "2018-03-28T03:48:23.062017Z"
    }
   },
   "outputs": [],
   "source": [
    "from collections import defaultdict\n",
    "import numpy as np"
   ]
  },
  {
   "cell_type": "code",
   "execution_count": 2,
   "metadata": {},
   "outputs": [],
   "source": [
    "import matplotlib.pyplot as plt\n",
    "import seaborn\n",
    "%matplotlib inline\n",
    "plt.style.use('fivethirtyeight')"
   ]
  },
  {
   "cell_type": "code",
   "execution_count": 3,
   "metadata": {
    "ExecuteTime": {
     "end_time": "2018-03-28T03:48:23.090475Z",
     "start_time": "2018-03-28T03:48:23.066211Z"
    }
   },
   "outputs": [],
   "source": [
    "def readFile(filename):\n",
    "    '''\n",
    "    read file return a generator, each element is one line\n",
    "    \n",
    "    Parameters\n",
    "    ----------\n",
    "        filename: str, filename\n",
    "    \n",
    "    Returns:\n",
    "    ----------\n",
    "        generator\n",
    "    '''\n",
    "    with open(filename, 'r', encoding = 'utf-8') as f:\n",
    "        data = f.readline().strip()\n",
    "        while data:\n",
    "            yield data\n",
    "            try:\n",
    "                data = f.readline().strip()\n",
    "            except:\n",
    "                print('read file failed in one line!')\n",
    "                continue"
   ]
  },
  {
   "cell_type": "code",
   "execution_count": 4,
   "metadata": {},
   "outputs": [],
   "source": [
    "def preprocess_text(text):\n",
    "    '''\n",
    "    Parameters\n",
    "    ----------\n",
    "        text: str, ’/w  ９９/m  昆明/ns  世博会/n  组委会/j  秘书长/n  、/w  云南省/ns\n",
    "    \n",
    "    Returns\n",
    "    ----------\n",
    "        str, ’９９昆明世博会组委会秘书长、云南省\n",
    "    '''\n",
    "    return ''.join(map(lambda x: x[: x.rfind('/')], text.split('  ')))"
   ]
  },
  {
   "cell_type": "code",
   "execution_count": 5,
   "metadata": {},
   "outputs": [],
   "source": [
    "def preprocess_text2(text):\n",
    "    '''\n",
    "    Parameters\n",
    "    ----------\n",
    "        text: str, ’/w  ９９/m  昆明/ns  世博会/n  组委会/j  秘书长/n  、/w  云南省/ns\n",
    "    \n",
    "    Returns\n",
    "    ----------\n",
    "        str, ’/９９/昆明/世博会/组委会/秘书长/、/云南省\n",
    "    '''\n",
    "    return ''.join(map(lambda x: x[:x.rfind('/')+1], text.split('  ')))"
   ]
  },
  {
   "cell_type": "code",
   "execution_count": 6,
   "metadata": {},
   "outputs": [],
   "source": [
    "def precision_recall_f1(output, target):\n",
    "    '''\n",
    "    Parameters\n",
    "    ----------\n",
    "        output, str\n",
    "\n",
    "        target, str\n",
    "    \n",
    "    Returns\n",
    "    ----------\n",
    "        precision, recall and f1, float\n",
    "    '''\n",
    "    def extract_index_pair(text):\n",
    "        o = [(0, 0)]\n",
    "        index = 0\n",
    "        for i in text:\n",
    "            if i != '/':\n",
    "                index += 1\n",
    "            else:\n",
    "                o.append((o[-1][-1], index))\n",
    "        else:\n",
    "            o.append((o[-1][-1], index))\n",
    "        o = set(o)\n",
    "        o.remove((0, 0))\n",
    "        return o\n",
    "    \n",
    "    o = extract_index_pair(output)\n",
    "    t = extract_index_pair(target)\n",
    "    \n",
    "    def precision_score(o, t):\n",
    "        count = 0\n",
    "        for i in t:\n",
    "            if i in o:\n",
    "                count += 1\n",
    "        return count / len(t)\n",
    "\n",
    "    precision, recall = precision_score(o, t), precision_score(t, o)\n",
    "    f1 = (2 * precision * recall) / (precision + recall)\n",
    "    return precision, recall, f1"
   ]
  },
  {
   "cell_type": "code",
   "execution_count": 7,
   "metadata": {},
   "outputs": [],
   "source": [
    "def build_corpus_and_testing_text(filename, training_ratio = 0.7):\n",
    "    '''\n",
    "    forward maximum matching\n",
    "    \n",
    "    Parameters\n",
    "    ----------\n",
    "    filename: str\n",
    "    \n",
    "    training_ratio: float, ratio of training data\n",
    "    \n",
    "    Returns\n",
    "    ----------\n",
    "    corpus: set\n",
    "    \n",
    "    testing_text: list, each element is a sentence that need to be preprocessed\n",
    "    '''\n",
    "    corpus = set()\n",
    "    num_of_lines = 0\n",
    "    for line in readFile(filename):\n",
    "        num_of_lines += 1\n",
    "    all_index = np.arange(num_of_lines)\n",
    "    np.random.shuffle(all_index)\n",
    "    training_lines = set(all_index[:int(training_ratio * num_of_lines)].tolist())\n",
    "    \n",
    "    testing_text = []\n",
    "    for index, line in enumerate(readFile(filename)):\n",
    "        if index not in training_lines:\n",
    "            testing_text.append(line)\n",
    "            continue\n",
    "        for temp in map(lambda x: x.split('/'), line.split('  ')):\n",
    "            if len(temp) != 2:\n",
    "                continue\n",
    "            word, _ = temp\n",
    "            if 'ｈｔｔｐ' in word or 'ｗｗｗ．' in word:\n",
    "                continue\n",
    "            corpus.add(word)\n",
    "    return corpus, testing_text"
   ]
  },
  {
   "cell_type": "code",
   "execution_count": 11,
   "metadata": {
    "ExecuteTime": {
     "end_time": "2018-03-28T03:48:31.356680Z",
     "start_time": "2018-03-28T03:48:31.302151Z"
    }
   },
   "outputs": [],
   "source": [
    "def split_words(line, corpus_set):\n",
    "    '''\n",
    "    forward maximum matching\n",
    "    \n",
    "    Parameters\n",
    "    ----------\n",
    "    line: str, a chinese string\n",
    "    \n",
    "    corpus_set: set, corpus\n",
    "    \n",
    "    Returns\n",
    "    ----------\n",
    "    str, results\n",
    "    '''\n",
    "    n_line = len(line)\n",
    "    start, end = 0, n_line\n",
    "    result = []\n",
    "    while start < n_line:\n",
    "#         time.sleep(0.5)\n",
    "#         print(result)\n",
    "        n = n_line - start\n",
    "        if n == 1:\n",
    "            result.append(line[start:])\n",
    "            return '/'.join(result) + '/'\n",
    "        current_word = line[start: end]\n",
    "        if current_word in corpus_set:\n",
    "            result.append(current_word)\n",
    "            start = end\n",
    "            end = n_line\n",
    "            continue\n",
    "        else:\n",
    "            if len(current_word) == 1:\n",
    "                corpus_set.add(current_word)\n",
    "                result.append(current_word)\n",
    "                start = end\n",
    "                end = n_line\n",
    "                continue\n",
    "            end -= 1\n",
    "            continue\n",
    "        start += 1\n",
    "    return '/'.join(result) + '/'"
   ]
  },
  {
   "cell_type": "code",
   "execution_count": 12,
   "metadata": {
    "ExecuteTime": {
     "end_time": "2018-03-28T03:48:31.403472Z",
     "start_time": "2018-03-28T03:48:31.358195Z"
    }
   },
   "outputs": [],
   "source": [
    "def split_words_reverse(line, corpus_set):\n",
    "    '''\n",
    "    backward maximum matching\n",
    "    \n",
    "    Parameters\n",
    "    ----------\n",
    "    line: str, a chinese string\n",
    "    \n",
    "    corpus_set: set, corpus\n",
    "    \n",
    "    Returns\n",
    "    ----------\n",
    "    str, results\n",
    "    '''\n",
    "    n_line = len(line)\n",
    "    start, end = 0, n_line\n",
    "    result = []\n",
    "    while end > 0:\n",
    "#         time.sleep(0.5)\n",
    "#         print(result)\n",
    "        if (end - 0) == 1:\n",
    "            result.append(line[start: end])\n",
    "            return '/'.join(reversed(result)) + '/'\n",
    "        current_word = line[start: end]\n",
    "        if current_word in corpus_set:\n",
    "            result.append(current_word)\n",
    "            end = start\n",
    "            start = 0\n",
    "            continue\n",
    "        else:\n",
    "            if len(current_word) == 1:\n",
    "                corpus_set.add(current_word)\n",
    "                result.append(current_word)\n",
    "                end = start\n",
    "                start = 0\n",
    "                continue\n",
    "            start += 1\n",
    "            continue\n",
    "        end -= 1\n",
    "    return '/'.join(reversed(result)) + '/'"
   ]
  },
  {
   "cell_type": "code",
   "execution_count": 18,
   "metadata": {},
   "outputs": [],
   "source": [
    "def run(split_words_function, testing_text, corpus):\n",
    "    p_r_f1 = []\n",
    "    results = []\n",
    "    for index, i in enumerate(testing_text):\n",
    "        text = preprocess_text(i)\n",
    "        target = preprocess_text2(i)\n",
    "        output = split_words_function(text, corpus)\n",
    "        p_r_f1.append(precision_recall_f1(output, target))\n",
    "        results.append(output)\n",
    "    \n",
    "    a, b, c = zip(*p_r_f1)\n",
    "    average_precision = sum(a) / len(a)\n",
    "    average_recall = sum(b) / len(b)\n",
    "    average_f1 = sum(c) / len(c)\n",
    "    print('average precision:', average_precision)\n",
    "    print('average recall', average_recall)\n",
    "    print('average F1-score', average_f1)\n",
    "    plt.figure(figsize = (16, 4))\n",
    "    plt.subplot(121)\n",
    "    plt.xticks(np.arange(0, 1.05, 0.1))\n",
    "    plt.hist(a, bins = np.arange(0, 1.05, 0.05))\n",
    "    plt.xlabel('precision')\n",
    "    plt.ylabel('frequency')\n",
    "    plt.title('precision')\n",
    "    plt.subplot(122)\n",
    "    plt.xticks(np.arange(0, 1.05, 0.1))\n",
    "    plt.hist(b, bins = np.arange(0, 1.05, 0.05))\n",
    "    plt.xlabel('recall')\n",
    "    plt.ylabel('frequency')\n",
    "    plt.title('recall')\n",
    "    plt.show()\n",
    "    return results, a, b, c"
   ]
  },
  {
   "cell_type": "code",
   "execution_count": 13,
   "metadata": {},
   "outputs": [
    {
     "name": "stdout",
     "output_type": "stream",
     "text": [
      "corpus size: 109080\n",
      "testing data size: 30104\n"
     ]
    }
   ],
   "source": [
    "corpus_file = 'data/train_pd_utf8.txt'\n",
    "corpus, testing_text = built_corpus_and_testing_text(corpus_file)\n",
    "print('corpus size:', len(corpus))\n",
    "print('testing data size:', len(testing_text))"
   ]
  },
  {
   "cell_type": "code",
   "execution_count": 14,
   "metadata": {},
   "outputs": [
    {
     "name": "stdout",
     "output_type": "stream",
     "text": [
      "average precision: 0.9236920003547948\n",
      "average recall 0.919770192345733\n",
      "average F1-score 0.9207383613668775\n"
     ]
    },
    {
     "data": {
      "image/png": "[encoded data removed]",
      "text/plain": [
       "<Figure size 1152x288 with 2 Axes>"
      ]
     },
     "metadata": {},
     "output_type": "display_data"
    }
   ],
   "source": [
    "results, a, b, c = run(split_words, testing_text, corpus)"
   ]
  },
  {
   "cell_type": "code",
   "execution_count": 19,
   "metadata": {},
   "outputs": [
    {
     "name": "stdout",
     "output_type": "stream",
     "text": [
      "average precision: 0.9303842915060833\n",
      "average recall 0.9269259636077932\n",
      "average F1-score 0.9277040668672729\n"
     ]
    },
    {
     "data": {
      "image/png": "[encoded data removed]",
      "text/plain": [
       "<Figure size 1152x288 with 2 Axes>"
      ]
     },
     "metadata": {},
     "output_type": "display_data"
    }
   ],
   "source": [
    "results, a, b, c = run(split_words_reverse, testing_text, corpus)"
   ]
  },
  {
   "cell_type": "code",
   "execution_count": null,
   "metadata": {},
   "outputs": [],
   "source": []
  }
 ],
 "metadata": {
  "kernelspec": {
   "display_name": "Python 3",
   "language": "python",
   "name": "python3"
  },
  "language_info": {
   "codemirror_mode": {
    "name": "ipython",
    "version": 3
   },
   "file_extension": ".py",
   "mimetype": "text/x-python",
   "name": "python",
   "nbconvert_exporter": "python",
   "pygments_lexer": "ipython3",
   "version": "3.6.5"
  },
  "varInspector": {
   "cols": {
    "lenName": 16,
    "lenType": 16,
    "lenVar": 40
   },
   "kernels_config": {
    "python": {
     "delete_cmd_postfix": "",
     "delete_cmd_prefix": "del ",
     "library": "var_list.py",
     "varRefreshCmd": "print(var_dic_list())"
    },
    "r": {
     "delete_cmd_postfix": ") ",
     "delete_cmd_prefix": "rm(",
     "library": "var_list.r",
     "varRefreshCmd": "cat(var_dic_list()) "
    }
   },
   "types_to_exclude": [
    "module",
    "function",
    "builtin_function_or_method",
    "instance",
    "_Feature"
   ],
   "window_display": false
  }
 },
 "nbformat": 4,
 "nbformat_minor": 2
}
